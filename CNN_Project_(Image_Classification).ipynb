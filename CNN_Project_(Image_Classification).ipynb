{
  "nbformat": 4,
  "nbformat_minor": 0,
  "metadata": {
    "colab": {
      "name": "CNN Project (Image Classification).ipynb",
      "provenance": [],
      "mount_file_id": "17rGwOjmiie_WR47MP40EXqg_Uf0zHH6H",
      "authorship_tag": "ABX9TyOXeL2wEXgxf9x8r0PMhsS4",
      "include_colab_link": true
    },
    "kernelspec": {
      "name": "python3",
      "display_name": "Python 3"
    },
    "language_info": {
      "name": "python"
    }
  },
  "cells": [
    {
      "cell_type": "markdown",
      "metadata": {
        "id": "view-in-github",
        "colab_type": "text"
      },
      "source": [
        "<a href=\"https://colab.research.google.com/github/rlalramengi/CNN_Image_classification/blob/main/CNN_Project_(Image_Classification).ipynb\" target=\"_parent\"><img src=\"https://colab.research.google.com/assets/colab-badge.svg\" alt=\"Open In Colab\"/></a>"
      ]
    },
    {
      "cell_type": "code",
      "execution_count": null,
      "metadata": {
        "colab": {
          "base_uri": "https://localhost:8080/"
        },
        "id": "974Ld2m_NWKp",
        "outputId": "f0bf80e5-201f-4519-d86b-bebddf4bbcd8"
      },
      "outputs": [
        {
          "output_type": "stream",
          "name": "stdout",
          "text": [
            "Looking in indexes: https://pypi.org/simple, https://us-python.pkg.dev/colab-wheels/public/simple/\n",
            "Requirement already satisfied: pip in /usr/local/lib/python3.7/dist-packages (21.1.3)\n",
            "Collecting pip\n",
            "  Downloading pip-22.1.2-py3-none-any.whl (2.1 MB)\n",
            "\u001b[K     |████████████████████████████████| 2.1 MB 5.1 MB/s \n",
            "\u001b[?25hInstalling collected packages: pip\n",
            "  Attempting uninstall: pip\n",
            "    Found existing installation: pip 21.1.3\n",
            "    Uninstalling pip-21.1.3:\n",
            "      Successfully uninstalled pip-21.1.3\n",
            "Successfully installed pip-22.1.2\n"
          ]
        }
      ],
      "source": [
        "pip install --upgrade pip"
      ]
    },
    {
      "cell_type": "markdown",
      "source": [
        "# Convolutional Neural Network"
      ],
      "metadata": {
        "id": "_Xn9mpCbNjZy"
      }
    },
    {
      "cell_type": "code",
      "source": [
        "#importing the libraries"
      ],
      "metadata": {
        "id": "Qjbk9LJBNof_"
      },
      "execution_count": null,
      "outputs": []
    },
    {
      "cell_type": "code",
      "source": [
        "import tensorflow as tf\n",
        "from keras.preprocessing.image import ImageDataGenerator"
      ],
      "metadata": {
        "id": "AcOuj7bEOW-I"
      },
      "execution_count": null,
      "outputs": []
    },
    {
      "cell_type": "code",
      "source": [
        "tf.__version__"
      ],
      "metadata": {
        "colab": {
          "base_uri": "https://localhost:8080/",
          "height": 35
        },
        "id": "KTYTznYQOhm9",
        "outputId": "67e2007c-525f-42bb-a088-5d11dd775cb5"
      },
      "execution_count": null,
      "outputs": [
        {
          "output_type": "execute_result",
          "data": {
            "text/plain": [
              "'2.8.2'"
            ],
            "application/vnd.google.colaboratory.intrinsic+json": {
              "type": "string"
            }
          },
          "metadata": {},
          "execution_count": 10
        }
      ]
    },
    {
      "cell_type": "markdown",
      "source": [
        "# Testing for GPU"
      ],
      "metadata": {
        "id": "1L2rHrySQUXL"
      }
    },
    {
      "cell_type": "code",
      "source": [
        "import tensorflow as tf\n",
        "tf.test.gpu_device_name()"
      ],
      "metadata": {
        "colab": {
          "base_uri": "https://localhost:8080/",
          "height": 35
        },
        "id": "GKWI8y2iP7oZ",
        "outputId": "bc39ade8-7bbc-450f-c1ef-6927de3050b8"
      },
      "execution_count": null,
      "outputs": [
        {
          "output_type": "execute_result",
          "data": {
            "text/plain": [
              "''"
            ],
            "application/vnd.google.colaboratory.intrinsic+json": {
              "type": "string"
            }
          },
          "metadata": {},
          "execution_count": 12
        }
      ]
    },
    {
      "cell_type": "markdown",
      "source": [
        "# Mounting Google Drive Locally"
      ],
      "metadata": {
        "id": "SVGz2f-VRJ_b"
      }
    },
    {
      "cell_type": "code",
      "source": [
        "from google.colab import drive\n",
        "drive.mount('/content/data')"
      ],
      "metadata": {
        "colab": {
          "base_uri": "https://localhost:8080/"
        },
        "id": "_fg8wBz8Q_Rc",
        "outputId": "59e06732-e08c-41be-f827-e620f9014a34"
      },
      "execution_count": null,
      "outputs": [
        {
          "output_type": "stream",
          "name": "stdout",
          "text": [
            "Mounted at /content/data\n"
          ]
        }
      ]
    },
    {
      "cell_type": "code",
      "source": [
        "import os\n",
        "os.chdir('/content/drive/MyDrive/DataSet/CNN')"
      ],
      "metadata": {
        "id": "JjFp22-ERZAz"
      },
      "execution_count": null,
      "outputs": []
    },
    {
      "cell_type": "markdown",
      "source": [
        ""
      ],
      "metadata": {
        "id": "-xjrY9caTNlx"
      }
    },
    {
      "cell_type": "markdown",
      "source": [
        "# Data Preprocessing"
      ],
      "metadata": {
        "id": "m-F9AlYwTN8J"
      }
    },
    {
      "cell_type": "markdown",
      "source": [
        "preprocessing the training set"
      ],
      "metadata": {
        "id": "P1kRLRFjTXhZ"
      }
    },
    {
      "cell_type": "code",
      "source": [
        "train_datagen = ImageDataGenerator(rescale = 1./255,\n",
        "                                   shear_range = 0.2,\n",
        "                                   zoom_range = 0.2,\n",
        "                                   horizontal_flip = True)\n",
        "training_set = train_datagen.flow_from_directory('/content/drive/MyDrive/DataSet/CNN/ImageClassification/training_set',\n",
        "                                                 target_size = (64, 64),\n",
        "                                                 batch_size = 32,\n",
        "                                                 class_mode = 'binary')"
      ],
      "metadata": {
        "colab": {
          "base_uri": "https://localhost:8080/"
        },
        "id": "MjvJncpVRy85",
        "outputId": "69a6238b-4b05-4f15-f730-facc1886c400"
      },
      "execution_count": null,
      "outputs": [
        {
          "output_type": "stream",
          "name": "stdout",
          "text": [
            "Found 4000 images belonging to 2 classes.\n"
          ]
        }
      ]
    },
    {
      "cell_type": "markdown",
      "source": [
        "Preprocessing the test set"
      ],
      "metadata": {
        "id": "BPBRf3EKXkys"
      }
    },
    {
      "cell_type": "code",
      "source": [
        "test_datagen = ImageDataGenerator(rescale = 1./255)\n",
        "test_set = test_datagen.flow_from_directory('/content/drive/MyDrive/DataSet/CNN/ImageClassification/test_set',\n",
        "                                            target_size = (64, 64),\n",
        "                                            batch_size = 32,\n",
        "                                            class_mode = 'binary')"
      ],
      "metadata": {
        "colab": {
          "base_uri": "https://localhost:8080/"
        },
        "id": "YJFVBuGaUDQR",
        "outputId": "32a3e419-1481-4eb3-f7bd-9359c15465f6"
      },
      "execution_count": null,
      "outputs": [
        {
          "output_type": "stream",
          "name": "stdout",
          "text": [
            "Found 1000 images belonging to 2 classes.\n"
          ]
        }
      ]
    },
    {
      "cell_type": "markdown",
      "source": [
        "# Building the CNN"
      ],
      "metadata": {
        "id": "BDTV72QxaEKI"
      }
    },
    {
      "cell_type": "markdown",
      "source": [
        "Initialising the CNN"
      ],
      "metadata": {
        "id": "4GOOYVhXaHds"
      }
    },
    {
      "cell_type": "code",
      "source": [
        "cnn = tf.keras.models.Sequential()"
      ],
      "metadata": {
        "id": "rLQ50bNqaJyk"
      },
      "execution_count": null,
      "outputs": []
    },
    {
      "cell_type": "markdown",
      "source": [
        "Convolution"
      ],
      "metadata": {
        "id": "JR8qZox3aiAM"
      }
    },
    {
      "cell_type": "code",
      "source": [
        "cnn.add(tf.keras.layers.Conv2D(filters = 32, kernel_size = 3, activation = 'relu', input_shape = [64, 64,3]))"
      ],
      "metadata": {
        "id": "OHk5a-Otafq2"
      },
      "execution_count": null,
      "outputs": []
    },
    {
      "cell_type": "code",
      "source": [
        ""
      ],
      "metadata": {
        "id": "ed6imOMUa5oT"
      },
      "execution_count": null,
      "outputs": []
    },
    {
      "cell_type": "markdown",
      "source": [
        "Pooling"
      ],
      "metadata": {
        "id": "RhRR9r1Ia7RP"
      }
    },
    {
      "cell_type": "code",
      "source": [
        "cnn.add(tf.keras.layers.MaxPool2D(pool_size=2, strides = 2))"
      ],
      "metadata": {
        "id": "40BNhVfka83o"
      },
      "execution_count": null,
      "outputs": []
    },
    {
      "cell_type": "code",
      "source": [
        ""
      ],
      "metadata": {
        "id": "WRmKVDB4bhL5"
      },
      "execution_count": null,
      "outputs": []
    },
    {
      "cell_type": "markdown",
      "source": [
        "Adding a second convolutional layer"
      ],
      "metadata": {
        "id": "HeHg_vErcdNI"
      }
    },
    {
      "cell_type": "code",
      "source": [
        "cnn.add(tf.keras.layers.Conv2D(filters = 32, kernel_size = 3, activation = 'relu'))\n",
        "cnn.add(tf.keras.layers.MaxPool2D(pool_size= 2, strides = 2))"
      ],
      "metadata": {
        "id": "jjfnvJdrcglU"
      },
      "execution_count": null,
      "outputs": []
    },
    {
      "cell_type": "markdown",
      "source": [
        "Flattening"
      ],
      "metadata": {
        "id": "8d8kcShcdj30"
      }
    },
    {
      "cell_type": "code",
      "source": [
        "cnn.add(tf.keras.layers.Flatten())"
      ],
      "metadata": {
        "id": "9xaFqDnUc4kA"
      },
      "execution_count": null,
      "outputs": []
    },
    {
      "cell_type": "markdown",
      "source": [
        "Full Connection"
      ],
      "metadata": {
        "id": "9lOvlSHlf7Ez"
      }
    },
    {
      "cell_type": "code",
      "source": [
        "cnn.add(tf.keras.layers.Dense(units = 128, activation = 'relu'))"
      ],
      "metadata": {
        "id": "FHf-EPpedqNh"
      },
      "execution_count": null,
      "outputs": []
    },
    {
      "cell_type": "markdown",
      "source": [
        "Output Layer"
      ],
      "metadata": {
        "id": "3zeDuw-9g21O"
      }
    },
    {
      "cell_type": "code",
      "source": [
        "cnn.add(tf.keras.layers.Dense(units = 1, activation = 'sigmoid'))"
      ],
      "metadata": {
        "id": "Hsk6awf8gs2n"
      },
      "execution_count": null,
      "outputs": []
    },
    {
      "cell_type": "markdown",
      "source": [
        "Model Summary"
      ],
      "metadata": {
        "id": "eHwLT8KOhDio"
      }
    },
    {
      "cell_type": "code",
      "source": [
        "cnn.summary()"
      ],
      "metadata": {
        "colab": {
          "base_uri": "https://localhost:8080/"
        },
        "id": "dwusRMZng_or",
        "outputId": "f1730821-f7ee-4538-ce54-9e37cb8a7b91"
      },
      "execution_count": null,
      "outputs": [
        {
          "output_type": "stream",
          "name": "stdout",
          "text": [
            "Model: \"sequential\"\n",
            "_________________________________________________________________\n",
            " Layer (type)                Output Shape              Param #   \n",
            "=================================================================\n",
            " conv2d (Conv2D)             (None, 62, 62, 32)        896       \n",
            "                                                                 \n",
            " max_pooling2d (MaxPooling2D  (None, 31, 31, 32)       0         \n",
            " )                                                               \n",
            "                                                                 \n",
            " conv2d_1 (Conv2D)           (None, 29, 29, 32)        9248      \n",
            "                                                                 \n",
            " max_pooling2d_1 (MaxPooling  (None, 14, 14, 32)       0         \n",
            " 2D)                                                             \n",
            "                                                                 \n",
            " flatten (Flatten)           (None, 6272)              0         \n",
            "                                                                 \n",
            " dense (Dense)               (None, 128)               802944    \n",
            "                                                                 \n",
            " dense_1 (Dense)             (None, 1)                 129       \n",
            "                                                                 \n",
            "=================================================================\n",
            "Total params: 813,217\n",
            "Trainable params: 813,217\n",
            "Non-trainable params: 0\n",
            "_________________________________________________________________\n"
          ]
        }
      ]
    },
    {
      "cell_type": "markdown",
      "source": [
        "# Training the CNN"
      ],
      "metadata": {
        "id": "DPEa_TgbhZnb"
      }
    },
    {
      "cell_type": "code",
      "source": [
        "# Compiling the CNN\n",
        "cnn.compile(optimizer = 'adam', loss = 'binary_crossentropy', metrics = ['accuracy'])"
      ],
      "metadata": {
        "id": "7YUK6FFMhGdz"
      },
      "execution_count": null,
      "outputs": []
    },
    {
      "cell_type": "markdown",
      "source": [
        "# Training the CNN on the Training set and evaluation it on the Test set"
      ],
      "metadata": {
        "id": "jMb7BOMnh6lR"
      }
    },
    {
      "cell_type": "code",
      "source": [
        "cnn.fit(x = training_set, validation_data = test_set, epochs = 25)"
      ],
      "metadata": {
        "colab": {
          "base_uri": "https://localhost:8080/"
        },
        "id": "B3bWiIQwh0oA",
        "outputId": "239fbb6d-201f-425b-8138-ce9d6845f798"
      },
      "execution_count": null,
      "outputs": [
        {
          "output_type": "stream",
          "name": "stdout",
          "text": [
            "Epoch 1/25\n",
            "125/125 [==============================] - 1065s 9s/step - loss: 0.6948 - accuracy: 0.5282 - val_loss: 0.6633 - val_accuracy: 0.6270\n",
            "Epoch 2/25\n",
            "125/125 [==============================] - 43s 345ms/step - loss: 0.6618 - accuracy: 0.6030 - val_loss: 0.6693 - val_accuracy: 0.5950\n",
            "Epoch 3/25\n",
            "125/125 [==============================] - 43s 343ms/step - loss: 0.6372 - accuracy: 0.6472 - val_loss: 0.6998 - val_accuracy: 0.5750\n",
            "Epoch 4/25\n",
            "125/125 [==============================] - 43s 342ms/step - loss: 0.5993 - accuracy: 0.6812 - val_loss: 0.7328 - val_accuracy: 0.5950\n",
            "Epoch 5/25\n",
            "125/125 [==============================] - 43s 341ms/step - loss: 0.5751 - accuracy: 0.6930 - val_loss: 0.5653 - val_accuracy: 0.7390\n",
            "Epoch 6/25\n",
            "125/125 [==============================] - 49s 387ms/step - loss: 0.5465 - accuracy: 0.7260 - val_loss: 0.5582 - val_accuracy: 0.7130\n",
            "Epoch 7/25\n",
            "125/125 [==============================] - 46s 367ms/step - loss: 0.5192 - accuracy: 0.7385 - val_loss: 0.5328 - val_accuracy: 0.7590\n",
            "Epoch 8/25\n",
            "125/125 [==============================] - 51s 408ms/step - loss: 0.5156 - accuracy: 0.7500 - val_loss: 0.5155 - val_accuracy: 0.7530\n",
            "Epoch 9/25\n",
            "125/125 [==============================] - 48s 384ms/step - loss: 0.4864 - accuracy: 0.7678 - val_loss: 0.5059 - val_accuracy: 0.7640\n",
            "Epoch 10/25\n",
            "125/125 [==============================] - 43s 342ms/step - loss: 0.4675 - accuracy: 0.7812 - val_loss: 0.4943 - val_accuracy: 0.7670\n",
            "Epoch 11/25\n",
            "125/125 [==============================] - 40s 318ms/step - loss: 0.4658 - accuracy: 0.7800 - val_loss: 0.4960 - val_accuracy: 0.7690\n",
            "Epoch 12/25\n",
            "125/125 [==============================] - 40s 321ms/step - loss: 0.4560 - accuracy: 0.7835 - val_loss: 0.4895 - val_accuracy: 0.7750\n",
            "Epoch 13/25\n",
            "125/125 [==============================] - 41s 326ms/step - loss: 0.4375 - accuracy: 0.7915 - val_loss: 0.4678 - val_accuracy: 0.7870\n",
            "Epoch 14/25\n",
            "125/125 [==============================] - 41s 325ms/step - loss: 0.4191 - accuracy: 0.8050 - val_loss: 0.4659 - val_accuracy: 0.7930\n",
            "Epoch 15/25\n",
            "125/125 [==============================] - 41s 326ms/step - loss: 0.4111 - accuracy: 0.8055 - val_loss: 0.5794 - val_accuracy: 0.7170\n",
            "Epoch 16/25\n",
            "125/125 [==============================] - 41s 327ms/step - loss: 0.4000 - accuracy: 0.8140 - val_loss: 0.5223 - val_accuracy: 0.7450\n",
            "Epoch 17/25\n",
            "125/125 [==============================] - 40s 322ms/step - loss: 0.3894 - accuracy: 0.8245 - val_loss: 0.5025 - val_accuracy: 0.7560\n",
            "Epoch 18/25\n",
            "125/125 [==============================] - 41s 325ms/step - loss: 0.3806 - accuracy: 0.8267 - val_loss: 0.5038 - val_accuracy: 0.7830\n",
            "Epoch 19/25\n",
            "125/125 [==============================] - 41s 325ms/step - loss: 0.3663 - accuracy: 0.8328 - val_loss: 0.4826 - val_accuracy: 0.7960\n",
            "Epoch 20/25\n",
            "125/125 [==============================] - 40s 322ms/step - loss: 0.3655 - accuracy: 0.8357 - val_loss: 0.4594 - val_accuracy: 0.7860\n",
            "Epoch 21/25\n",
            "125/125 [==============================] - 41s 328ms/step - loss: 0.3463 - accuracy: 0.8522 - val_loss: 0.4952 - val_accuracy: 0.7580\n",
            "Epoch 22/25\n",
            "125/125 [==============================] - 41s 325ms/step - loss: 0.3399 - accuracy: 0.8487 - val_loss: 0.4981 - val_accuracy: 0.7890\n",
            "Epoch 23/25\n",
            "125/125 [==============================] - 39s 310ms/step - loss: 0.3283 - accuracy: 0.8537 - val_loss: 0.4861 - val_accuracy: 0.7930\n",
            "Epoch 24/25\n",
            "125/125 [==============================] - 41s 329ms/step - loss: 0.3232 - accuracy: 0.8625 - val_loss: 0.4668 - val_accuracy: 0.7880\n",
            "Epoch 25/25\n",
            "125/125 [==============================] - 40s 321ms/step - loss: 0.3118 - accuracy: 0.8633 - val_loss: 0.5899 - val_accuracy: 0.7640\n"
          ]
        },
        {
          "output_type": "execute_result",
          "data": {
            "text/plain": [
              "<keras.callbacks.History at 0x7f02f60cf8d0>"
            ]
          },
          "metadata": {},
          "execution_count": 32
        }
      ]
    },
    {
      "cell_type": "markdown",
      "source": [
        "# Making a single prediction"
      ],
      "metadata": {
        "id": "H4Pm9L9CnTU6"
      }
    },
    {
      "cell_type": "code",
      "source": [
        "import numpy as np \n",
        "from keras.preprocessing import image\n",
        "test_image = image.load_img('/content/drive/MyDrive/DataSet/CNN/ImageClassification/single_prediction/cat_or_dog_1.jpg', target_size = (64, 64))\n",
        "test_image = image.img_to_array(test_image)\n",
        "test_image = np.expand_dims(test_image, axis = 0) \n",
        "result = cnn.predict(test_image) \n",
        "training_set.class_indices \n",
        "if result[0][0] == 1: \n",
        "  prediction = 'dog'  \n",
        "else: \n",
        "  prediction = 'cat' \n"
      ],
      "metadata": {
        "id": "nfaRbIkBiIWk"
      },
      "execution_count": null,
      "outputs": []
    },
    {
      "cell_type": "code",
      "source": [
        "print(prediction)"
      ],
      "metadata": {
        "colab": {
          "base_uri": "https://localhost:8080/"
        },
        "id": "hZ1eZSVxoV5x",
        "outputId": "b4f4caae-21cd-4e67-acf8-669ced5def88"
      },
      "execution_count": null,
      "outputs": [
        {
          "output_type": "stream",
          "name": "stdout",
          "text": [
            "dog\n"
          ]
        }
      ]
    },
    {
      "cell_type": "code",
      "source": [
        ""
      ],
      "metadata": {
        "id": "ofU70XsCoXqT"
      },
      "execution_count": null,
      "outputs": []
    }
  ]
}